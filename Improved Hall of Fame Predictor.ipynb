{
 "cells": [
  {
   "cell_type": "markdown",
   "id": "41b98d74",
   "metadata": {},
   "source": [
    "<h1 style=\"text-align:center\"> Improved Hall of Fame Predictor Model </h1>"
   ]
  },
  {
   "cell_type": "markdown",
   "id": "35ee3f19",
   "metadata": {},
   "source": [
    "At the end of the last notebook, there was a discussion of things that could be done to improve our predictor model.  We will use KNN again (for now), but we will scale the GP and W values (right now they likely weigh way too much compared to the Save %).  Also, I have now added in the Stanley Cup wins for each goalie. "
   ]
  },
  {
   "cell_type": "code",
   "execution_count": 1,
   "id": "ddb4a1f7",
   "metadata": {},
   "outputs": [
    {
     "data": {
      "text/html": [
       "<div>\n",
       "<style scoped>\n",
       "    .dataframe tbody tr th:only-of-type {\n",
       "        vertical-align: middle;\n",
       "    }\n",
       "\n",
       "    .dataframe tbody tr th {\n",
       "        vertical-align: top;\n",
       "    }\n",
       "\n",
       "    .dataframe thead th {\n",
       "        text-align: right;\n",
       "    }\n",
       "</style>\n",
       "<table border=\"1\" class=\"dataframe\">\n",
       "  <thead>\n",
       "    <tr style=\"text-align: right;\">\n",
       "      <th></th>\n",
       "      <th>Player</th>\n",
       "      <th>Country</th>\n",
       "      <th>Draft Position</th>\n",
       "      <th>1st Season</th>\n",
       "      <th>HOF</th>\n",
       "      <th>GP</th>\n",
       "      <th>W</th>\n",
       "      <th>Career Save %</th>\n",
       "      <th>GAA</th>\n",
       "      <th>Stanley Cups</th>\n",
       "    </tr>\n",
       "  </thead>\n",
       "  <tbody>\n",
       "    <tr>\n",
       "      <th>0</th>\n",
       "      <td>Jeff Zatkoff</td>\n",
       "      <td>USA</td>\n",
       "      <td>74.0</td>\n",
       "      <td>20132014</td>\n",
       "      <td>N</td>\n",
       "      <td>48</td>\n",
       "      <td>18</td>\n",
       "      <td>0.912250</td>\n",
       "      <td>2.492500</td>\n",
       "      <td>1.0</td>\n",
       "    </tr>\n",
       "    <tr>\n",
       "      <th>1</th>\n",
       "      <td>Wendell Young</td>\n",
       "      <td>CAN</td>\n",
       "      <td>73.0</td>\n",
       "      <td>19851986</td>\n",
       "      <td>N</td>\n",
       "      <td>187</td>\n",
       "      <td>59</td>\n",
       "      <td>0.876800</td>\n",
       "      <td>3.861000</td>\n",
       "      <td>2.0</td>\n",
       "    </tr>\n",
       "    <tr>\n",
       "      <th>2</th>\n",
       "      <td>Ken Wregget</td>\n",
       "      <td>CAN</td>\n",
       "      <td>45.0</td>\n",
       "      <td>19831984</td>\n",
       "      <td>N</td>\n",
       "      <td>575</td>\n",
       "      <td>225</td>\n",
       "      <td>0.885647</td>\n",
       "      <td>3.666471</td>\n",
       "      <td>1.0</td>\n",
       "    </tr>\n",
       "    <tr>\n",
       "      <th>3</th>\n",
       "      <td>Chris Worthy</td>\n",
       "      <td>GBR</td>\n",
       "      <td>NaN</td>\n",
       "      <td>19681969</td>\n",
       "      <td>N</td>\n",
       "      <td>26</td>\n",
       "      <td>5</td>\n",
       "      <td>0.861333</td>\n",
       "      <td>4.706667</td>\n",
       "      <td>0.0</td>\n",
       "    </tr>\n",
       "    <tr>\n",
       "      <th>4</th>\n",
       "      <td>Gump Worsley</td>\n",
       "      <td>CAN</td>\n",
       "      <td>NaN</td>\n",
       "      <td>19521953</td>\n",
       "      <td>Y</td>\n",
       "      <td>860</td>\n",
       "      <td>333</td>\n",
       "      <td>0.912842</td>\n",
       "      <td>2.812857</td>\n",
       "      <td>4.0</td>\n",
       "    </tr>\n",
       "  </tbody>\n",
       "</table>\n",
       "</div>"
      ],
      "text/plain": [
       "          Player Country  Draft Position  1st Season HOF   GP    W  \\\n",
       "0   Jeff Zatkoff     USA            74.0    20132014   N   48   18   \n",
       "1  Wendell Young     CAN            73.0    19851986   N  187   59   \n",
       "2    Ken Wregget     CAN            45.0    19831984   N  575  225   \n",
       "3   Chris Worthy     GBR             NaN    19681969   N   26    5   \n",
       "4   Gump Worsley     CAN             NaN    19521953   Y  860  333   \n",
       "\n",
       "   Career Save %       GAA  Stanley Cups  \n",
       "0       0.912250  2.492500           1.0  \n",
       "1       0.876800  3.861000           2.0  \n",
       "2       0.885647  3.666471           1.0  \n",
       "3       0.861333  4.706667           0.0  \n",
       "4       0.912842  2.812857           4.0  "
      ]
     },
     "execution_count": 1,
     "metadata": {},
     "output_type": "execute_result"
    }
   ],
   "source": [
    "#load the data\n",
    "import pandas as pd\n",
    "\n",
    "GoalieData = pd.read_csv('FinalGoalieBios.csv', index_col = 0)\n",
    "GoalieData.head()"
   ]
  },
  {
   "cell_type": "markdown",
   "id": "074a09aa",
   "metadata": {},
   "source": [
    "Let's only consider goalies who might have a chance, so goalies with over 200 games played in the NHL."
   ]
  },
  {
   "cell_type": "code",
   "execution_count": 2,
   "id": "13923bbb",
   "metadata": {},
   "outputs": [],
   "source": [
    "GoalieDataTrain = GoalieData.loc[GoalieData['1st Season']<19981999]"
   ]
  },
  {
   "cell_type": "code",
   "execution_count": 179,
   "id": "ade87a19",
   "metadata": {},
   "outputs": [
    {
     "data": {
      "text/html": [
       "<div>\n",
       "<style scoped>\n",
       "    .dataframe tbody tr th:only-of-type {\n",
       "        vertical-align: middle;\n",
       "    }\n",
       "\n",
       "    .dataframe tbody tr th {\n",
       "        vertical-align: top;\n",
       "    }\n",
       "\n",
       "    .dataframe thead th {\n",
       "        text-align: right;\n",
       "    }\n",
       "</style>\n",
       "<table border=\"1\" class=\"dataframe\">\n",
       "  <thead>\n",
       "    <tr style=\"text-align: right;\">\n",
       "      <th></th>\n",
       "      <th>Player</th>\n",
       "      <th>Country</th>\n",
       "      <th>Draft Position</th>\n",
       "      <th>1st Season</th>\n",
       "      <th>HOF</th>\n",
       "      <th>GP</th>\n",
       "      <th>W</th>\n",
       "      <th>Career Save %</th>\n",
       "      <th>GAA</th>\n",
       "      <th>Stanley Cups</th>\n",
       "    </tr>\n",
       "  </thead>\n",
       "  <tbody>\n",
       "    <tr>\n",
       "      <th>2</th>\n",
       "      <td>Ken Wregget</td>\n",
       "      <td>CAN</td>\n",
       "      <td>45.0</td>\n",
       "      <td>19831984</td>\n",
       "      <td>N</td>\n",
       "      <td>575</td>\n",
       "      <td>225</td>\n",
       "      <td>0.885647</td>\n",
       "      <td>3.666471</td>\n",
       "      <td>1.0</td>\n",
       "    </tr>\n",
       "    <tr>\n",
       "      <th>4</th>\n",
       "      <td>Gump Worsley</td>\n",
       "      <td>CAN</td>\n",
       "      <td>NaN</td>\n",
       "      <td>19521953</td>\n",
       "      <td>Y</td>\n",
       "      <td>860</td>\n",
       "      <td>333</td>\n",
       "      <td>0.912842</td>\n",
       "      <td>2.812857</td>\n",
       "      <td>4.0</td>\n",
       "    </tr>\n",
       "    <tr>\n",
       "      <th>10</th>\n",
       "      <td>Kevin Weekes</td>\n",
       "      <td>CAN</td>\n",
       "      <td>41.0</td>\n",
       "      <td>19971998</td>\n",
       "      <td>N</td>\n",
       "      <td>348</td>\n",
       "      <td>105</td>\n",
       "      <td>0.896818</td>\n",
       "      <td>3.044545</td>\n",
       "      <td>0.0</td>\n",
       "    </tr>\n",
       "    <tr>\n",
       "      <th>13</th>\n",
       "      <td>Rick Wamsley</td>\n",
       "      <td>CAN</td>\n",
       "      <td>58.0</td>\n",
       "      <td>19801981</td>\n",
       "      <td>N</td>\n",
       "      <td>407</td>\n",
       "      <td>204</td>\n",
       "      <td>0.880154</td>\n",
       "      <td>3.431538</td>\n",
       "      <td>1.0</td>\n",
       "    </tr>\n",
       "    <tr>\n",
       "      <th>17</th>\n",
       "      <td>Tomas Vokoun</td>\n",
       "      <td>CZE</td>\n",
       "      <td>226.0</td>\n",
       "      <td>19961997</td>\n",
       "      <td>N</td>\n",
       "      <td>700</td>\n",
       "      <td>300</td>\n",
       "      <td>0.902200</td>\n",
       "      <td>3.192667</td>\n",
       "      <td>0.0</td>\n",
       "    </tr>\n",
       "    <tr>\n",
       "      <th>...</th>\n",
       "      <td>...</td>\n",
       "      <td>...</td>\n",
       "      <td>...</td>\n",
       "      <td>...</td>\n",
       "      <td>...</td>\n",
       "      <td>...</td>\n",
       "      <td>...</td>\n",
       "      <td>...</td>\n",
       "      <td>...</td>\n",
       "      <td>...</td>\n",
       "    </tr>\n",
       "    <tr>\n",
       "      <th>429</th>\n",
       "      <td>Martin Biron</td>\n",
       "      <td>CAN</td>\n",
       "      <td>16.0</td>\n",
       "      <td>19951996</td>\n",
       "      <td>N</td>\n",
       "      <td>508</td>\n",
       "      <td>230</td>\n",
       "      <td>0.897437</td>\n",
       "      <td>3.034375</td>\n",
       "      <td>0.0</td>\n",
       "    </tr>\n",
       "    <tr>\n",
       "      <th>432</th>\n",
       "      <td>Craig Billington</td>\n",
       "      <td>CAN</td>\n",
       "      <td>23.0</td>\n",
       "      <td>19851986</td>\n",
       "      <td>N</td>\n",
       "      <td>332</td>\n",
       "      <td>110</td>\n",
       "      <td>0.875133</td>\n",
       "      <td>3.588667</td>\n",
       "      <td>0.0</td>\n",
       "    </tr>\n",
       "    <tr>\n",
       "      <th>441</th>\n",
       "      <td>Ed Belfour</td>\n",
       "      <td>CAN</td>\n",
       "      <td>NaN</td>\n",
       "      <td>19881989</td>\n",
       "      <td>Y</td>\n",
       "      <td>963</td>\n",
       "      <td>484</td>\n",
       "      <td>0.905059</td>\n",
       "      <td>2.566471</td>\n",
       "      <td>1.0</td>\n",
       "    </tr>\n",
       "    <tr>\n",
       "      <th>446</th>\n",
       "      <td>Don Beaupre</td>\n",
       "      <td>CAN</td>\n",
       "      <td>37.0</td>\n",
       "      <td>19801981</td>\n",
       "      <td>N</td>\n",
       "      <td>666</td>\n",
       "      <td>268</td>\n",
       "      <td>0.882176</td>\n",
       "      <td>3.586471</td>\n",
       "      <td>0.0</td>\n",
       "    </tr>\n",
       "    <tr>\n",
       "      <th>449</th>\n",
       "      <td>Tom Barrasso</td>\n",
       "      <td>USA</td>\n",
       "      <td>5.0</td>\n",
       "      <td>19831984</td>\n",
       "      <td>N</td>\n",
       "      <td>777</td>\n",
       "      <td>369</td>\n",
       "      <td>0.889053</td>\n",
       "      <td>3.433158</td>\n",
       "      <td>2.0</td>\n",
       "    </tr>\n",
       "  </tbody>\n",
       "</table>\n",
       "<p>100 rows × 10 columns</p>\n",
       "</div>"
      ],
      "text/plain": [
       "               Player Country  Draft Position  1st Season HOF   GP    W  \\\n",
       "2         Ken Wregget     CAN            45.0    19831984   N  575  225   \n",
       "4        Gump Worsley     CAN             NaN    19521953   Y  860  333   \n",
       "10       Kevin Weekes     CAN            41.0    19971998   N  348  105   \n",
       "13       Rick Wamsley     CAN            58.0    19801981   N  407  204   \n",
       "17       Tomas Vokoun     CZE           226.0    19961997   N  700  300   \n",
       "..                ...     ...             ...         ...  ..  ...  ...   \n",
       "429      Martin Biron     CAN            16.0    19951996   N  508  230   \n",
       "432  Craig Billington     CAN            23.0    19851986   N  332  110   \n",
       "441        Ed Belfour     CAN             NaN    19881989   Y  963  484   \n",
       "446       Don Beaupre     CAN            37.0    19801981   N  666  268   \n",
       "449      Tom Barrasso     USA             5.0    19831984   N  777  369   \n",
       "\n",
       "     Career Save %       GAA  Stanley Cups  \n",
       "2         0.885647  3.666471           1.0  \n",
       "4         0.912842  2.812857           4.0  \n",
       "10        0.896818  3.044545           0.0  \n",
       "13        0.880154  3.431538           1.0  \n",
       "17        0.902200  3.192667           0.0  \n",
       "..             ...       ...           ...  \n",
       "429       0.897437  3.034375           0.0  \n",
       "432       0.875133  3.588667           0.0  \n",
       "441       0.905059  2.566471           1.0  \n",
       "446       0.882176  3.586471           0.0  \n",
       "449       0.889053  3.433158           2.0  \n",
       "\n",
       "[100 rows x 10 columns]"
      ]
     },
     "execution_count": 179,
     "metadata": {},
     "output_type": "execute_result"
    }
   ],
   "source": [
    "GoalieDataTrain = GoalieDataTrain.loc[GoalieDataTrain.GP > 300]\n",
    "GoalieDataTrain"
   ]
  },
  {
   "cell_type": "code",
   "execution_count": 139,
   "id": "b1a472e8",
   "metadata": {},
   "outputs": [],
   "source": [
    "from sklearn.neighbors import KNeighborsClassifier\n",
    "from sklearn.preprocessing import StandardScaler\n"
   ]
  },
  {
   "cell_type": "code",
   "execution_count": 180,
   "id": "376ec431",
   "metadata": {},
   "outputs": [],
   "source": [
    "features = ['GP','W','Stanley Cups', 'Career Save %']\n",
    "scale = StandardScaler()\n",
    "X = scale.fit_transform(GoalieDataTrain[features])\n",
    "\n",
    "y = pd.get_dummies(GoalieDataTrain.HOF)['Y']"
   ]
  },
  {
   "cell_type": "code",
   "execution_count": 181,
   "id": "cbe9f82c",
   "metadata": {},
   "outputs": [
    {
     "data": {
      "text/plain": [
       "KNeighborsClassifier(n_neighbors=7)"
      ]
     },
     "execution_count": 181,
     "metadata": {},
     "output_type": "execute_result"
    }
   ],
   "source": [
    "model = KNeighborsClassifier(n_neighbors = 7)\n",
    "model.fit(X,y)"
   ]
  },
  {
   "cell_type": "code",
   "execution_count": 7,
   "id": "2e0144fd",
   "metadata": {},
   "outputs": [],
   "source": [
    "def is_he_HOF(name, model):\n",
    "    prediction = model.predict(scale.transform(GoalieData.loc[GoalieData.Player == name][features]))\n",
    "    if prediction == 1:\n",
    "        print(\"He will be in the Hall of Fame!\")\n",
    "    else:\n",
    "        print(\"Nope\")"
   ]
  },
  {
   "cell_type": "code",
   "execution_count": 182,
   "id": "415f9475",
   "metadata": {},
   "outputs": [
    {
     "name": "stdout",
     "output_type": "stream",
     "text": [
      "He will be in the Hall of Fame!\n"
     ]
    }
   ],
   "source": [
    "is_he_HOF('Roberto Luongo', model)"
   ]
  },
  {
   "cell_type": "code",
   "execution_count": 183,
   "id": "30154dc7",
   "metadata": {},
   "outputs": [
    {
     "name": "stdout",
     "output_type": "stream",
     "text": [
      "He will be in the Hall of Fame!\n"
     ]
    }
   ],
   "source": [
    "is_he_HOF('Marc-Andre Fleury', model)"
   ]
  },
  {
   "cell_type": "code",
   "execution_count": 184,
   "id": "107bce0e",
   "metadata": {},
   "outputs": [
    {
     "name": "stdout",
     "output_type": "stream",
     "text": [
      "He will be in the Hall of Fame!\n"
     ]
    }
   ],
   "source": [
    "is_he_HOF('Martin Brodeur', model)"
   ]
  },
  {
   "cell_type": "code",
   "execution_count": 144,
   "id": "c60f7449",
   "metadata": {},
   "outputs": [
    {
     "name": "stdout",
     "output_type": "stream",
     "text": [
      "Nope\n"
     ]
    }
   ],
   "source": [
    "is_he_HOF('Mike Smith', model)"
   ]
  },
  {
   "cell_type": "code",
   "execution_count": 185,
   "id": "41d1b0fe",
   "metadata": {},
   "outputs": [
    {
     "name": "stdout",
     "output_type": "stream",
     "text": [
      "He will be in the Hall of Fame!\n"
     ]
    }
   ],
   "source": [
    "is_he_HOF('Henrik Lundqvist', model)"
   ]
  },
  {
   "cell_type": "code",
   "execution_count": 186,
   "id": "52f5d110",
   "metadata": {},
   "outputs": [
    {
     "name": "stdout",
     "output_type": "stream",
     "text": [
      "He will be in the Hall of Fame!\n"
     ]
    }
   ],
   "source": [
    "is_he_HOF('Chris Osgood', model)"
   ]
  },
  {
   "cell_type": "code",
   "execution_count": 187,
   "id": "ed5fba49",
   "metadata": {},
   "outputs": [
    {
     "name": "stdout",
     "output_type": "stream",
     "text": [
      "Nope\n"
     ]
    }
   ],
   "source": [
    "is_he_HOF('Mike Richter', model)"
   ]
  },
  {
   "cell_type": "code",
   "execution_count": 188,
   "id": "eea0a7c2",
   "metadata": {},
   "outputs": [
    {
     "name": "stdout",
     "output_type": "stream",
     "text": [
      "Nope\n"
     ]
    }
   ],
   "source": [
    "is_he_HOF('Matt Murray', model)"
   ]
  },
  {
   "cell_type": "code",
   "execution_count": 189,
   "id": "d54159db",
   "metadata": {},
   "outputs": [
    {
     "name": "stdout",
     "output_type": "stream",
     "text": [
      "He will be in the Hall of Fame!\n"
     ]
    }
   ],
   "source": [
    "is_he_HOF('Gump Worsley', model)"
   ]
  },
  {
   "cell_type": "code",
   "execution_count": 191,
   "id": "546e7c0f",
   "metadata": {},
   "outputs": [
    {
     "name": "stdout",
     "output_type": "stream",
     "text": [
      "He will be in the Hall of Fame!\n"
     ]
    }
   ],
   "source": [
    "is_he_HOF('Jacques Plante', model)"
   ]
  },
  {
   "cell_type": "code",
   "execution_count": 192,
   "id": "8eec3948",
   "metadata": {},
   "outputs": [
    {
     "name": "stdout",
     "output_type": "stream",
     "text": [
      "He will be in the Hall of Fame!\n"
     ]
    }
   ],
   "source": [
    "is_he_HOF('Ken Dryden', model)"
   ]
  },
  {
   "cell_type": "code",
   "execution_count": 194,
   "id": "69dbc8a5",
   "metadata": {},
   "outputs": [
    {
     "name": "stdout",
     "output_type": "stream",
     "text": [
      "He will be in the Hall of Fame!\n"
     ]
    }
   ],
   "source": [
    "is_he_HOF('Dominik Hasek', model)"
   ]
  },
  {
   "cell_type": "markdown",
   "id": "4e2c58d6",
   "metadata": {},
   "source": [
    "Obviously the best way to do this normally would be to do some sort of train_test_split and cross validate, etc, but this was just a personal exercise for learning basic principles and to have fun predicting whether some goalies would make the hall of fame.  If you've made it this far, thanks for tuning in!"
   ]
  },
  {
   "cell_type": "code",
   "execution_count": null,
   "id": "c2978729",
   "metadata": {},
   "outputs": [],
   "source": []
  }
 ],
 "metadata": {
  "kernelspec": {
   "display_name": "Python 3 (ipykernel)",
   "language": "python",
   "name": "python3"
  },
  "language_info": {
   "codemirror_mode": {
    "name": "ipython",
    "version": 3
   },
   "file_extension": ".py",
   "mimetype": "text/x-python",
   "name": "python",
   "nbconvert_exporter": "python",
   "pygments_lexer": "ipython3",
   "version": "3.9.7"
  }
 },
 "nbformat": 4,
 "nbformat_minor": 5
}

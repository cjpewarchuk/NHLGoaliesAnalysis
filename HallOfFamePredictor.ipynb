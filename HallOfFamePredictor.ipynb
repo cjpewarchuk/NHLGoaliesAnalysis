{
 "cells": [
  {
   "cell_type": "markdown",
   "id": "ee78d849",
   "metadata": {},
   "source": [
    "<h1 style=\"text-align:center\">Creating a Hall of Fame Predictor</h1>"
   ]
  },
  {
   "cell_type": "markdown",
   "id": "f0570444",
   "metadata": {},
   "source": [
    "In the last notebook, we noticed that goalies who made the hall of fame had better W, GP, and career save %.  In this notebook, we will create a model to predict whether certain goalies who are not eligible for the HOF yet will make the hall of fame.  We will use a KNN classifier model for this task."
   ]
  },
  {
   "cell_type": "code",
   "execution_count": 1,
   "id": "271cb399",
   "metadata": {},
   "outputs": [
    {
     "data": {
      "text/html": [
       "<div>\n",
       "<style scoped>\n",
       "    .dataframe tbody tr th:only-of-type {\n",
       "        vertical-align: middle;\n",
       "    }\n",
       "\n",
       "    .dataframe tbody tr th {\n",
       "        vertical-align: top;\n",
       "    }\n",
       "\n",
       "    .dataframe thead th {\n",
       "        text-align: right;\n",
       "    }\n",
       "</style>\n",
       "<table border=\"1\" class=\"dataframe\">\n",
       "  <thead>\n",
       "    <tr style=\"text-align: right;\">\n",
       "      <th></th>\n",
       "      <th>Player</th>\n",
       "      <th>Country</th>\n",
       "      <th>Draft Position</th>\n",
       "      <th>1st Season</th>\n",
       "      <th>HOF</th>\n",
       "      <th>GP</th>\n",
       "      <th>W</th>\n",
       "      <th>Career Save %</th>\n",
       "      <th>GAA</th>\n",
       "    </tr>\n",
       "  </thead>\n",
       "  <tbody>\n",
       "    <tr>\n",
       "      <th>1</th>\n",
       "      <td>Jeff Zatkoff</td>\n",
       "      <td>USA</td>\n",
       "      <td>74.0</td>\n",
       "      <td>20132014</td>\n",
       "      <td>N</td>\n",
       "      <td>48</td>\n",
       "      <td>18</td>\n",
       "      <td>0.912250</td>\n",
       "      <td>2.492500</td>\n",
       "    </tr>\n",
       "    <tr>\n",
       "      <th>5</th>\n",
       "      <td>Wendell Young</td>\n",
       "      <td>CAN</td>\n",
       "      <td>73.0</td>\n",
       "      <td>19851986</td>\n",
       "      <td>N</td>\n",
       "      <td>187</td>\n",
       "      <td>59</td>\n",
       "      <td>0.876800</td>\n",
       "      <td>3.861000</td>\n",
       "    </tr>\n",
       "    <tr>\n",
       "      <th>9</th>\n",
       "      <td>Ken Wregget</td>\n",
       "      <td>CAN</td>\n",
       "      <td>45.0</td>\n",
       "      <td>19831984</td>\n",
       "      <td>N</td>\n",
       "      <td>575</td>\n",
       "      <td>225</td>\n",
       "      <td>0.885647</td>\n",
       "      <td>3.666471</td>\n",
       "    </tr>\n",
       "    <tr>\n",
       "      <th>10</th>\n",
       "      <td>Chris Worthy</td>\n",
       "      <td>GBR</td>\n",
       "      <td>NaN</td>\n",
       "      <td>19681969</td>\n",
       "      <td>N</td>\n",
       "      <td>26</td>\n",
       "      <td>5</td>\n",
       "      <td>0.861333</td>\n",
       "      <td>4.706667</td>\n",
       "    </tr>\n",
       "    <tr>\n",
       "      <th>11</th>\n",
       "      <td>Gump Worsley</td>\n",
       "      <td>CAN</td>\n",
       "      <td>NaN</td>\n",
       "      <td>19521953</td>\n",
       "      <td>Y</td>\n",
       "      <td>860</td>\n",
       "      <td>333</td>\n",
       "      <td>0.912842</td>\n",
       "      <td>2.812857</td>\n",
       "    </tr>\n",
       "  </tbody>\n",
       "</table>\n",
       "</div>"
      ],
      "text/plain": [
       "           Player Country  Draft Position  1st Season HOF   GP    W  \\\n",
       "1    Jeff Zatkoff     USA            74.0    20132014   N   48   18   \n",
       "5   Wendell Young     CAN            73.0    19851986   N  187   59   \n",
       "9     Ken Wregget     CAN            45.0    19831984   N  575  225   \n",
       "10   Chris Worthy     GBR             NaN    19681969   N   26    5   \n",
       "11   Gump Worsley     CAN             NaN    19521953   Y  860  333   \n",
       "\n",
       "    Career Save %       GAA  \n",
       "1        0.912250  2.492500  \n",
       "5        0.876800  3.861000  \n",
       "9        0.885647  3.666471  \n",
       "10       0.861333  4.706667  \n",
       "11       0.912842  2.812857  "
      ]
     },
     "execution_count": 1,
     "metadata": {},
     "output_type": "execute_result"
    }
   ],
   "source": [
    "import pandas as pd\n",
    "\n",
    "GoaliesData = pd.read_csv('GoalieBios1950-2020-Filtered-For-Analysis.csv', index_col = 0)\n",
    "GoaliesData.head()"
   ]
  },
  {
   "cell_type": "code",
   "execution_count": 36,
   "id": "c55672e9",
   "metadata": {},
   "outputs": [
    {
     "data": {
      "text/plain": [
       "KNeighborsClassifier(n_neighbors=10)"
      ]
     },
     "execution_count": 36,
     "metadata": {},
     "output_type": "execute_result"
    }
   ],
   "source": [
    "from sklearn.neighbors import KNeighborsClassifier\n",
    "\n",
    "features = ['GP', 'W', 'Career Save %']\n",
    "\n",
    "X = GoaliesData[features]\n",
    "y = pd.get_dummies(GoaliesData.HOF)\n",
    "\n",
    "KNN_model = KNeighborsClassifier(n_neighbors = 10)\n",
    "KNN_model.fit(X,y)"
   ]
  },
  {
   "cell_type": "markdown",
   "id": "19dd0aaf",
   "metadata": {},
   "source": [
    "We have now created a KNN classifier model to predict whether a goalie will be in the hall of fame or not.  Let's test it out!"
   ]
  },
  {
   "cell_type": "code",
   "execution_count": 37,
   "id": "3b6d7d8f",
   "metadata": {},
   "outputs": [],
   "source": [
    "def is_he_HOF(name, model):\n",
    "    prediction = model.predict(GoaliesData.loc[GoaliesData.Player == name][features])[0][1]\n",
    "    if prediction == 1:\n",
    "        print(\"He will be in the Hall of Fame!\")\n",
    "    else:\n",
    "        print(\"Nope\")"
   ]
  },
  {
   "cell_type": "code",
   "execution_count": 38,
   "id": "5d4460b4",
   "metadata": {},
   "outputs": [
    {
     "name": "stdout",
     "output_type": "stream",
     "text": [
      "He will be in the Hall of Fame!\n"
     ]
    }
   ],
   "source": [
    "#Roberto Luongo first; likely to be a hall of famer\n",
    "\n",
    "is_he_HOF('Roberto Luongo', KNN_model)"
   ]
  },
  {
   "cell_type": "code",
   "execution_count": 39,
   "id": "4ed430ce",
   "metadata": {},
   "outputs": [
    {
     "name": "stdout",
     "output_type": "stream",
     "text": [
      "Nope\n"
     ]
    }
   ],
   "source": [
    "#Now let's try Mike Smith\n",
    "\n",
    "is_he_HOF('Mike Smith', KNN_model)"
   ]
  },
  {
   "cell_type": "code",
   "execution_count": 40,
   "id": "fd5248c2",
   "metadata": {},
   "outputs": [
    {
     "name": "stdout",
     "output_type": "stream",
     "text": [
      "He will be in the Hall of Fame!\n"
     ]
    }
   ],
   "source": [
    "#How about Marc Andre Fleury\n",
    "\n",
    "is_he_HOF('Marc-Andre Fleury', KNN_model)"
   ]
  },
  {
   "cell_type": "code",
   "execution_count": 41,
   "id": "8db6e2a1",
   "metadata": {},
   "outputs": [
    {
     "name": "stdout",
     "output_type": "stream",
     "text": [
      "Nope\n"
     ]
    }
   ],
   "source": [
    "is_he_HOF('Ryan Miller', KNN_model)"
   ]
  },
  {
   "cell_type": "code",
   "execution_count": 42,
   "id": "9d58fad6",
   "metadata": {},
   "outputs": [
    {
     "name": "stdout",
     "output_type": "stream",
     "text": [
      "Nope\n"
     ]
    }
   ],
   "source": [
    "is_he_HOF('Carey Price', KNN_model)"
   ]
  },
  {
   "cell_type": "code",
   "execution_count": 43,
   "id": "ce50a7e6",
   "metadata": {},
   "outputs": [
    {
     "name": "stdout",
     "output_type": "stream",
     "text": [
      "He will be in the Hall of Fame!\n"
     ]
    }
   ],
   "source": [
    "is_he_HOF('Henrik Lundqvist', KNN_model)"
   ]
  },
  {
   "cell_type": "markdown",
   "id": "3a7a853f",
   "metadata": {},
   "source": [
    "I created a few different predictor models for hall of fame prediction using decision trees and KNN.  This particular KNN classifier seemed to work the best compared to what one would think.  However, after reanalyzing the data, there are a few considerations for future models.  \n",
    "<ol>\n",
    "    <li>GP and W are correlated with HOF, but a lot of the goalies in the hall of fame have less games played, depending on the length of their careers, so win % may be a better metric to use in a future model</li>\n",
    "    <li>It would be useful to find the data and create a column for # of stanley cups won to increase accuracy of the model </li>\n",
    "    <li>In future models, it would be a good idea to scale up the Save % for goalies who played during the 1980's</li>\n",
    "</ol>"
   ]
  },
  {
   "cell_type": "code",
   "execution_count": 45,
   "id": "4de40038",
   "metadata": {},
   "outputs": [
    {
     "data": {
      "text/plain": [
       "['KNN_model.pkl']"
      ]
     },
     "execution_count": 45,
     "metadata": {},
     "output_type": "execute_result"
    }
   ],
   "source": [
    "#let's save the model so we can use it in the future\n",
    "\n",
    "import joblib\n",
    "joblib.dump(KNN_model, 'KNN_model.pkl')"
   ]
  },
  {
   "cell_type": "code",
   "execution_count": null,
   "id": "e3b890df",
   "metadata": {},
   "outputs": [],
   "source": []
  }
 ],
 "metadata": {
  "kernelspec": {
   "display_name": "Python 3 (ipykernel)",
   "language": "python",
   "name": "python3"
  },
  "language_info": {
   "codemirror_mode": {
    "name": "ipython",
    "version": 3
   },
   "file_extension": ".py",
   "mimetype": "text/x-python",
   "name": "python",
   "nbconvert_exporter": "python",
   "pygments_lexer": "ipython3",
   "version": "3.9.7"
  }
 },
 "nbformat": 4,
 "nbformat_minor": 5
}
